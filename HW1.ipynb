{
 "cells": [
  {
   "cell_type": "markdown",
   "id": "f3a87084",
   "metadata": {},
   "source": [
    "# Hossein Baghdadi - HW1"
   ]
  },
  {
   "cell_type": "code",
   "execution_count": 1,
   "id": "516e31ce",
   "metadata": {},
   "outputs": [],
   "source": [
    "import requests\n",
    "from bs4 import BeautifulSoup\n",
    "import re"
   ]
  },
  {
   "cell_type": "code",
   "execution_count": 2,
   "id": "23f16a4f",
   "metadata": {},
   "outputs": [],
   "source": [
    "url = 'https://techblog.wikimedia.org/posts'\n",
    "result = requests.get(url)\n",
    "doc = BeautifulSoup(result.text, 'html.parser')"
   ]
  },
  {
   "cell_type": "code",
   "execution_count": 3,
   "id": "e6624ca1",
   "metadata": {
    "scrolled": true
   },
   "outputs": [
    {
     "name": "stdout",
     "output_type": "stream",
     "text": [
      "titles: ['From hell to HTML: releasing a Python package to easily work with Wikimedia HTML dumps', 'Perf Matters at Wikipedia in 2016', 'How we’re building our Kubernetes pipeline in GitLab', 'Web Perf Hero: Valentín Gutierrez', 'HTTP/2 performance revisited', 'Introducing Terraform support on Wikimedia Cloud VPS', 'Join the Wikimania Hackathon, August 12-14 2022!', 'Building DReaMeRS: How and why we opened a datacenter in France', 'What is in an edit? Automated detection of edit types on Wikipedia', 'New discovery tool for technical documentation']\n"
     ]
    }
   ],
   "source": [
    "# finding the titles of the first page\n",
    "\n",
    "tags = doc.find_all(['h2'], class_='entry-title')\n",
    "\n",
    "documents = []\n",
    "\n",
    "\n",
    "for tag in tags:\n",
    "    headlines_of_first_page_txt = tag.text\n",
    "    documents.append(headlines_of_first_page_txt)\n",
    "\n",
    "\n",
    "print(f\"titles: {documents}\")\n"
   ]
  },
  {
   "cell_type": "code",
   "execution_count": 4,
   "id": "725e9a80",
   "metadata": {},
   "outputs": [
    {
     "name": "stdout",
     "output_type": "stream",
     "text": [
      "Please Enter your Query:html&python+cloud-hackathon\n",
      "From hell to HTML: releasing a Python package to easily work with Wikimedia HTML dumps\n",
      "Introducing Terraform support on Wikimedia Cloud VPS\n"
     ]
    }
   ],
   "source": [
    "# Split the input query by the logical operators & (and), + (or), and - (subtract)\n",
    "\n",
    "query = input('Please Enter your Query:') # like \"html&python+cloud-hackathon\"\n",
    "\n",
    "keywords = re.findall(r'\\w+', query)\n",
    "operators = re.findall(r'[&+-]', query)\n",
    "\n",
    "# Initialize a set of documents that match the first keyword\n",
    "results = set([i for i, doc in enumerate(documents) if keywords[0].lower() in doc.lower()])\n",
    "\n",
    "# Iterate over the rest of the keywords and apply the logical operators\n",
    "for i, keyword in enumerate(keywords[1:]):\n",
    "    if operators[i] == '+':\n",
    "        results.update([i for i, doc in enumerate(documents) if keyword.lower() in doc.lower()])\n",
    "    elif operators[i] == '-':\n",
    "        results.difference_update([i for i, doc in enumerate(documents) if keyword.lower() in doc.lower()])\n",
    "    else:\n",
    "        results.intersection_update([i for i, doc in enumerate(documents) if keyword.lower() in doc.lower()])\n",
    "\n",
    "# Output the matching documents\n",
    "for i in results:\n",
    "    print(documents[i])"
   ]
  },
  {
   "cell_type": "code",
   "execution_count": null,
   "id": "69b67b21",
   "metadata": {},
   "outputs": [],
   "source": []
  },
  {
   "cell_type": "code",
   "execution_count": null,
   "id": "1ff625ec",
   "metadata": {},
   "outputs": [],
   "source": []
  }
 ],
 "metadata": {
  "kernelspec": {
   "display_name": "Python 3 (ipykernel)",
   "language": "python",
   "name": "python3"
  },
  "language_info": {
   "codemirror_mode": {
    "name": "ipython",
    "version": 3
   },
   "file_extension": ".py",
   "mimetype": "text/x-python",
   "name": "python",
   "nbconvert_exporter": "python",
   "pygments_lexer": "ipython3",
   "version": "3.9.13"
  }
 },
 "nbformat": 4,
 "nbformat_minor": 5
}
